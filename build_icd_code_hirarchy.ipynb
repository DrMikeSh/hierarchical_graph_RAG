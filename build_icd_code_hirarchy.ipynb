{
 "cells": [
  {
   "cell_type": "code",
   "execution_count": null,
   "metadata": {},
   "outputs": [],
   "source": [
    "import pandas as pd\n",
    "import re\n",
    "import networkx as nx\n",
    "import pickle\n",
    "from tqdm.auto import tqdm\n",
    "from dotenv import load_dotenv\n",
    "from openai import OpenAI\n",
    "from tqdm.contrib.concurrent import thread_map"
   ]
  },
  {
   "cell_type": "markdown",
   "metadata": {},
   "source": [
    "# Get the data"
   ]
  },
  {
   "cell_type": "markdown",
   "metadata": {},
   "source": [
    "## Table data for regulare codes"
   ]
  },
  {
   "cell_type": "code",
   "execution_count": null,
   "metadata": {},
   "outputs": [],
   "source": [
    "def parse_file(file_path):\n",
    "    parsed_lines = []\n",
    "    \n",
    "    with open(file_path, 'r') as file:\n",
    "        for line in file:\n",
    "            line = line.rstrip() \n",
    "            \n",
    "            # Apply parsing rules to extract data\n",
    "            section1 = line[6:13].strip()     \n",
    "            section2 = line[13:16].strip()      \n",
    "            section3 = line[16:77].strip()      \n",
    "            section4 = line[77:].strip()        \n",
    "            \n",
    "            # Append the parsed data as a list\n",
    "            parsed_lines.append([section1, section2, section3, section4])\n",
    "    \n",
    "    return parsed_lines\n",
    "\n",
    "file_path = 'icd10cm-order-2025.txt'  \n",
    "parsed_data = parse_file(file_path)\n",
    "\n",
    "icd_codes = pd.DataFrame(parsed_data, columns=['code','legal','short_description','long_description'])\n",
    "icd_codes = icd_codes.drop(['legal'], axis=1)"
   ]
  },
  {
   "cell_type": "markdown",
   "metadata": {},
   "source": [
    " ## Get the range headers from a icd hierarchy document"
   ]
  },
  {
   "cell_type": "code",
   "execution_count": null,
   "metadata": {},
   "outputs": [],
   "source": [
    "chapters =[]\n",
    "sections=[]\n",
    "with open('chapters_and_sections.txt','r') as f:\n",
    "    for line in f:\n",
    "        splitted = line.replace('Chapter ','')\n",
    "        splitted = splitted.split(' - ')\n",
    "        code = splitted[0]\n",
    "        description = splitted[1]\n",
    "        if 'Chapter' in line:\n",
    "            chapters.append([code, description])\n",
    "        else:\n",
    "            sections.append([code, description])"
   ]
  },
  {
   "cell_type": "code",
   "execution_count": null,
   "metadata": {},
   "outputs": [],
   "source": [
    "len(chapters), len(sections)"
   ]
  },
  {
   "cell_type": "markdown",
   "metadata": {},
   "source": [
    "# Helper functions"
   ]
  },
  {
   "cell_type": "code",
   "execution_count": null,
   "metadata": {},
   "outputs": [],
   "source": [
    "import re\n",
    "\n",
    "def is_range_in_range(range1, range2):\n",
    "    def parse_code(code):\n",
    "        \"\"\"\n",
    "        Parse the code into letter and numeric components.\n",
    "        Non-initial letters in the numeric part are replaced with '9' for comparison.\n",
    "        \"\"\"\n",
    "        letter = code[0]\n",
    "        number = int(re.sub(r'[a-zA-Z]', '9', code[1:]))\n",
    "        return letter, number\n",
    "\n",
    "    def parse_range(range_str):\n",
    "        \"\"\"\n",
    "        Parse a range string into its start and end components.\n",
    "        If the input is a single code (not a range), the start and end are the same.\n",
    "        \"\"\"\n",
    "        if '-' in range_str:\n",
    "            start, end = range_str.split('-')\n",
    "        else:\n",
    "            start = end = range_str\n",
    "        return parse_code(start), parse_code(end)\n",
    "\n",
    "    # Parse the ranges\n",
    "    (start1, end1), (start2, end2) = parse_range(range1), parse_range(range2)\n",
    "\n",
    "    # Check if range1 is fully within range2\n",
    "    def is_within(start_a, end_a, start_b, end_b):\n",
    "        return (start_b <= start_a <= end_b) and (start_b <= end_a <= end_b)\n",
    "\n",
    "    start2_letter, start2_num = start2\n",
    "    end2_letter, end2_num = end2\n",
    "    start1_letter, start1_num = start1\n",
    "    end1_letter, end1_num = end1\n",
    "\n",
    "    # Compare letters first, then numbers if letters are the same\n",
    "    if start2_letter <= start1_letter <= end2_letter and start2_letter <= end1_letter <= end2_letter:\n",
    "        if start1_letter == start2_letter and end1_letter == end2_letter:\n",
    "            return start2_num <= start1_num and end1_num <= end2_num\n",
    "        if start1_letter == start2_letter:\n",
    "            return start2_num <= start1_num\n",
    "        if end1_letter == end2_letter:\n",
    "            return end1_num <= end2_num\n",
    "        return True\n",
    "    return False"
   ]
  },
  {
   "cell_type": "markdown",
   "metadata": {},
   "source": [
    "# Build the hierarchy tree"
   ]
  },
  {
   "cell_type": "markdown",
   "metadata": {},
   "source": [
    "## Node class"
   ]
  },
  {
   "cell_type": "code",
   "execution_count": null,
   "metadata": {},
   "outputs": [],
   "source": [
    "# class for icd code hierarchial tree\n",
    "class ICDcodeNode:\n",
    "    def __init__(self, icd_code, description, children, parent):\n",
    "        self.icd_code = icd_code\n",
    "        self.description = description\n",
    "        self.children  =  children\n",
    "        self.parent = parent\n",
    "\n",
    "    def get_children(self):\n",
    "        return self.children\n",
    "    \n",
    "    def add_child(self, child):\n",
    "        if child not in self.children:\n",
    "            self.children.append(child)\n",
    "\n",
    "    def get_parent(self):\n",
    "        return self.parent\n",
    "    \n",
    "    def set_parent(self,parent):\n",
    "        self.parent = parent\n",
    "\n",
    "    def __repr__(self):\n",
    "        return f'{self.icd_code} - {self.description} -  Children: {[x.icd_code for x in self.children]}'"
   ]
  },
  {
   "cell_type": "markdown",
   "metadata": {},
   "source": [
    "## Set up the root and the chapters and sections"
   ]
  },
  {
   "cell_type": "code",
   "execution_count": null,
   "metadata": {},
   "outputs": [],
   "source": [
    "# Creating the root node \n",
    "node_dict = {} # this will store all the nodes\n",
    "root_node = ICDcodeNode('root', 'root', [], None)\n",
    "node_dict['root'] = root_node"
   ]
  },
  {
   "cell_type": "code",
   "execution_count": null,
   "metadata": {},
   "outputs": [],
   "source": [
    "# chapter nodes\n",
    "for chapter in chapters: \n",
    "    chapter_node = ICDcodeNode(chapter[0], chapter[1], [], parent= node_dict['root'])\n",
    "    node_dict['root'].add_child(chapter_node)\n",
    "    node_dict[chapter[0]]=chapter_node"
   ]
  },
  {
   "cell_type": "code",
   "execution_count": null,
   "metadata": {},
   "outputs": [],
   "source": [
    "# section nodes\n",
    "for section in sections:\n",
    "    flag=False\n",
    "    for chapter in chapters:\n",
    "        if is_range_in_range(section[0], chapter[0]):\n",
    "            parent_node = node_dict[chapter[0]] \n",
    "            section_node = ICDcodeNode(section[0], section[1], [], parent_node)\n",
    "            parent_node.add_child(section_node)\n",
    "            node_dict[section[0]]=section_node\n",
    "            flag=True\n",
    "            break\n",
    "    if flag==False:\n",
    "        print(f'error in section {section}')"
   ]
  },
  {
   "cell_type": "markdown",
   "metadata": {},
   "source": [
    "## Other codes"
   ]
  },
  {
   "cell_type": "code",
   "execution_count": null,
   "metadata": {},
   "outputs": [],
   "source": [
    "# get the length of the code\n",
    "icd_codes['len_code'] = icd_codes['code'].apply(lambda x: len(x))"
   ]
  },
  {
   "cell_type": "code",
   "execution_count": null,
   "metadata": {},
   "outputs": [],
   "source": [
    "# get the 3 letter codes as children of the sections\n",
    "three_letter = icd_codes.loc[icd_codes.len_code==3].copy()\n",
    "for row in three_letter.itertuples():\n",
    "    flag=False\n",
    "    for section in sections:\n",
    "        if is_range_in_range(row.code,section[0]):\n",
    "            parent_node = node_dict[section[0]] \n",
    "            code_node = ICDcodeNode(row.code, row.long_description, [], parent_node)\n",
    "            parent_node.add_child(code_node)\n",
    "            node_dict[row.code]=code_node\n",
    "            flag=True\n",
    "            break\n",
    "    if flag==False:\n",
    "        print(f'error in section {row.code}')"
   ]
  },
  {
   "cell_type": "code",
   "execution_count": null,
   "metadata": {},
   "outputs": [],
   "source": [
    "# get the 4-7 letter codes as children of the ones with smaller length\n",
    "for i in  range(4,8,1):\n",
    "    longer_codes = icd_codes.loc[icd_codes.len_code==i].copy()\n",
    "    for long_code in longer_codes.itertuples():\n",
    "        # if after the initial letter there are only numbers:\n",
    "        if not re.search(r'[a-zA-Z]', long_code.code[1:]):\n",
    "            try:\n",
    "                parent_node = node_dict[long_code.code[:-1]]\n",
    "            except:\n",
    "                print(long_code.code)\n",
    "        \n",
    "        # if the end of the code is letters\n",
    "        else:\n",
    "            for i in range(1,5):\n",
    "                if long_code.code[:-i] in node_dict:\n",
    "                    parent_node = node_dict[long_code.code[:-i]]\n",
    "                    flag=True\n",
    "                    break\n",
    "\n",
    "        child_node = ICDcodeNode(long_code.code, long_code.long_description, [], parent_node)\n",
    "        parent_node.add_child(child_node)\n",
    "        node_dict[long_code.code]=child_node"
   ]
  },
  {
   "cell_type": "code",
   "execution_count": null,
   "metadata": {},
   "outputs": [],
   "source": [
    "len(list(node_dict.keys()))"
   ]
  },
  {
   "cell_type": "code",
   "execution_count": null,
   "metadata": {},
   "outputs": [],
   "source": [
    "pickle.dump(node_dict, open('icd_code_hierarchy.pkl', 'wb'))"
   ]
  },
  {
   "cell_type": "markdown",
   "metadata": {},
   "source": [
    "# Visualization"
   ]
  },
  {
   "cell_type": "code",
   "execution_count": null,
   "metadata": {},
   "outputs": [],
   "source": [
    "import networkx as nx\n",
    "import matplotlib.pyplot as plt\n",
    "\n",
    "def build_networkx_graph(root_node):\n",
    "    \"\"\"Convert ICDcodeNode tree to NetworkX graph\"\"\"\n",
    "    graph = nx.Graph()\n",
    "\n",
    "    def add_nodes_edges(node):\n",
    "        # Add node with its ICD code and description as attributes\n",
    "        graph.add_node(node.icd_code, description=node.description)\n",
    "\n",
    "        # Add edges for each child\n",
    "        for child in node.get_children():\n",
    "            graph.add_edge(node.icd_code, child.icd_code)\n",
    "            add_nodes_edges(child)\n",
    "\n",
    "    add_nodes_edges(root_node)\n",
    "    return graph\n",
    "\n",
    "def visualize_large_graph(graph):\n",
    "    \"\"\"Visualize NetworkX graph with matplotlib\"\"\"\n",
    "    pos = nx.spring_layout(graph, k=0.1, iterations=100) #spacing between nodes\n",
    "\n",
    "    plt.figure(figsize=(8.5, 8.5))\n",
    "\n",
    "    # Draw edges\n",
    "    nx.draw_networkx_edges(graph, pos, alpha=0.5, width=0.5, edge_color='#888')\n",
    "\n",
    "    # Draw nodes\n",
    "    node_sizes = []\n",
    "    for node in graph.nodes():\n",
    "        # Size inversely proportional to ICD code length (longer codes are lower in the hierarchy)\n",
    "        code_length = len(node)\n",
    "        if '-' in node: #(code is a section/chapter)\n",
    "            code_length = 1\n",
    "        node_sizes.append(1 / (code_length + 1) * 2000)  # Scale factor\n",
    "\n",
    "    nx.draw_networkx_nodes(\n",
    "        graph, pos, \n",
    "        node_size=node_sizes,\n",
    "        node_color=[len(graph.edges(n)) for n in graph.nodes()],\n",
    "        cmap=plt.cm.plasma, alpha=0.5\n",
    "    )\n",
    "\n",
    "    # Add labels to nodes (ICD codes)\n",
    "    labels = {node: node for node in graph.nodes()}\n",
    "    nx.draw_networkx_labels(graph, pos, labels, font_size=8)\n",
    "\n",
    "    plt.title('ICD Code Hierarchy Visualization', fontsize=16)\n",
    "    plt.axis('off') \n",
    "    plt.tight_layout()\n",
    "    plt.show()\n",
    "\n",
    "\n",
    "root_node = node_dict['A15-A19']\n",
    "\n",
    "# Convert to NetworkX graph and visualize\n",
    "graph = build_networkx_graph(root_node)\n",
    "print('Built graph')\n",
    "visualize_large_graph(graph)"
   ]
  },
  {
   "cell_type": "markdown",
   "metadata": {},
   "source": [
    "# Embedding ICD codes"
   ]
  },
  {
   "cell_type": "code",
   "execution_count": null,
   "metadata": {},
   "outputs": [],
   "source": [
    "all_icds= []\n",
    "for key in node_dict:\n",
    "    node = node_dict[key]\n",
    "    all_icds.append([node.icd_code, node.description])\n",
    "all_icds = pd.DataFrame(all_icds, columns=['code','long_description'])\n",
    "all_icds = all_icds.loc[all_icds.code!='root'].copy()"
   ]
  },
  {
   "cell_type": "code",
   "execution_count": null,
   "metadata": {},
   "outputs": [],
   "source": [
    "#openai environemnt\n",
    "load_dotenv()\n",
    "os.environ[\"OPENAI_API_KEY\"] = os.getenv('OPENAI_KEY')\n",
    "client = OpenAI()"
   ]
  },
  {
   "cell_type": "code",
   "execution_count": null,
   "metadata": {},
   "outputs": [],
   "source": [
    "def get_embedding(text): \n",
    "    response = client.embeddings.create(\n",
    "    input=text,\n",
    "    model=\"text-embedding-3-large\",\n",
    "    dimensions=1024  # Specify the desired number of dimensions\n",
    "    )\n",
    "    return response.data[0].embedding"
   ]
  },
  {
   "cell_type": "code",
   "execution_count": null,
   "metadata": {},
   "outputs": [],
   "source": [
    "embeddings = thread_map(get_embedding, all_icds['long_description'].values)"
   ]
  },
  {
   "cell_type": "code",
   "execution_count": null,
   "metadata": {},
   "outputs": [],
   "source": [
    "all_icds['embeddings'] =embeddings"
   ]
  },
  {
   "cell_type": "code",
   "execution_count": null,
   "metadata": {},
   "outputs": [],
   "source": [
    "pickle.dump(all_icds, open('icd_codes_embeddings_2025_with_chapters.pkl', 'wb'))"
   ]
  }
 ],
 "metadata": {
  "kernelspec": {
   "display_name": "omop_api",
   "language": "python",
   "name": "python3"
  },
  "language_info": {
   "codemirror_mode": {
    "name": "ipython",
    "version": 3
   },
   "file_extension": ".py",
   "mimetype": "text/x-python",
   "name": "python",
   "nbconvert_exporter": "python",
   "pygments_lexer": "ipython3",
   "version": "3.11.5"
  }
 },
 "nbformat": 4,
 "nbformat_minor": 2
}
