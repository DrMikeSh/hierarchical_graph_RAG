{
 "cells": [
  {
   "cell_type": "code",
   "execution_count": null,
   "metadata": {},
   "outputs": [],
   "source": [
    "import pandas as pd\n",
    "import pickle\n",
    "import os\n",
    "from openai import OpenAI\n",
    "import faiss\n",
    "import numpy as np\n",
    "from dotenv import load_dotenv\n",
    "import networkx as nx\n",
    "import matplotlib.pyplot as plt\n",
    "from tqdm.auto import tqdm\n",
    "from pydantic import BaseModel"
   ]
  },
  {
   "cell_type": "markdown",
   "metadata": {},
   "source": [
    "# Load the hierarchial tree, embedding and OpenAI environment"
   ]
  },
  {
   "cell_type": "code",
   "execution_count": null,
   "metadata": {},
   "outputs": [],
   "source": [
    "# Class for ICD code hierarchical tree\n",
    "class ICDcodeNode:\n",
    "    def __init__(self, icd_code, description, children=None, parent=None):\n",
    "        self.icd_code = icd_code\n",
    "        self.description = description\n",
    "        self.children = children if children is not None else []  # Ensure children is a list\n",
    "        self.parent = parent\n",
    "\n",
    "    def get_children(self):\n",
    "        return self.children\n",
    "        \n",
    "    def add_child(self, child):\n",
    "        if child not in self.children:\n",
    "            self.children.append(child)\n",
    "            child.set_parent(self)  # Ensure child references the correct parent\n",
    "\n",
    "    def get_parent(self):\n",
    "        return self.parent\n",
    "    \n",
    "    def set_parent(self, parent):\n",
    "        self.parent = parent\n",
    "\n",
    "    def __repr__(self):\n",
    "        return f'{self.icd_code} - {self.description} - node children: {[child.icd_code for child in self.children]}'"
   ]
  },
  {
   "cell_type": "code",
   "execution_count": null,
   "metadata": {},
   "outputs": [],
   "source": [
    "# get all the nodes below a given node inn the tree\n",
    "def get_self_and_all_lower_nodes(node):\n",
    "    all_nodes = [node]\n",
    "    for child in node.get_children():\n",
    "        all_nodes.extend(get_self_and_all_lower_nodes(child))\n",
    "    return all_nodes"
   ]
  },
  {
   "cell_type": "code",
   "execution_count": null,
   "metadata": {},
   "outputs": [],
   "source": [
    "# loading the ICD code tree\n",
    "hierarcial_data = pickle.load(open(\"icd_code_hierarchy.pkl\", \"rb\"))"
   ]
  },
  {
   "cell_type": "code",
   "execution_count": null,
   "metadata": {},
   "outputs": [],
   "source": [
    "# Loading the embeddings\n",
    "embedding_data = pickle.load(open('icd_codes_embeddings_2025_with_chapters.pkl', 'rb'))"
   ]
  },
  {
   "cell_type": "code",
   "execution_count": null,
   "metadata": {},
   "outputs": [],
   "source": [
    "#get the openai environemnt\n",
    "load_dotenv()\n",
    "os.environ[\"OPENAI_API_KEY\"] = os.getenv('OPENAI_KEY')\n",
    "client = OpenAI()\n",
    "\n",
    "# embedding function \n",
    "def get_embedding(text): \n",
    "    response = client.embeddings.create(\n",
    "    input=text,\n",
    "    model=\"text-embedding-3-large\",\n",
    "    dimensions=1024\n",
    "    )\n",
    "    return response.data[0].embedding"
   ]
  },
  {
   "cell_type": "code",
   "execution_count": null,
   "metadata": {},
   "outputs": [],
   "source": [
    "# Creating a Vector database for the ICD codes using FAISS\n",
    "embeddings = np.array(embedding_data['embeddings'].tolist()).astype('float32')\n",
    "index_icd = faiss.IndexFlatIP(embeddings.shape[1])\n",
    "index_icd.add(embeddings)\n",
    "\n",
    "def search_by_embedding(query, index ,embedding_df, k=1):\n",
    "    # function to search for the closest k codes for a given query\n",
    "\n",
    "    # Get the embedding of the query\n",
    "    query_embedding = get_embedding(query)\n",
    "    # D is the the distances, I is the indices of the nearest codes\n",
    "    D, I = index.search(np.array([query_embedding]), k)\n",
    "    # Extract the corresponding rows from the ICD codes DataFrame and return \n",
    "    return embedding_df.iloc[I[0]][['code', 'long_description']]"
   ]
  },
  {
   "cell_type": "markdown",
   "metadata": {},
   "source": [
    "# Run Hierarchy search"
   ]
  },
  {
   "cell_type": "code",
   "execution_count": null,
   "metadata": {},
   "outputs": [],
   "source": [
    "def is_node_sunbset_or_synonym(medical_condition, icd_term):\n",
    "    '''\n",
    "    This function gets the medical condition and the description of the ICD code and decides if the ICD code depicts a synonym or subset of the medical conditon.  \n",
    "    Return Boolian answer in a structured output\n",
    "    '''\n",
    "    class Answer(BaseModel):\n",
    "        a: bool\n",
    "\n",
    "    completion = client.beta.chat.completions.parse(\n",
    "        model=\"gpt-4o\",\n",
    "        messages=[\n",
    "            {\n",
    "            \"role\": \"system\",\n",
    "            \"content\": '''\n",
    "            You will recieve a medical condition and an ICD code description. \n",
    "            If the icd description is a synonym or a subset of the medical term return \"True\" otherwise return \"False\". \n",
    "\n",
    "            For example:\n",
    "            Medical term: \"iron deficiency\", ICD description: \"iron deficiency anemia\"\n",
    "            Return \"True\"\n",
    "\n",
    "            Medical term: \"staph infection\", ICD description: \"staph pneumonia\"\n",
    "            Return \"True\"\n",
    "\n",
    "            Medical term: \"penumococal infection\", ICD description: \"pneumonia\"\n",
    "            Return \"False\"\n",
    "\n",
    "            Return only \"True\" or \"False\"!\n",
    "            '''\n",
    "        },\n",
    "        {\n",
    "            \"role\": \"user\",\n",
    "            \"content\": f\"Medical term: {medical_condition}, ICD description: {icd_term}\",\n",
    "        }\n",
    "        ],\n",
    "        response_format=Answer,\n",
    "        temperature=0,\n",
    "    )\n",
    "\n",
    "    return completion.choices[0].message.parsed.a"
   ]
  },
  {
   "cell_type": "code",
   "execution_count": null,
   "metadata": {},
   "outputs": [],
   "source": [
    "# Hierarchial search\n",
    "\n",
    "def run_hierarchial_search(term, k=50):\n",
    "    '''\n",
    "    This function runs a hierarchial search for the medical term using the following steps: \n",
    "    - embedd the query term \n",
    "    - Search the vector database using the embedding and exctract the K terms\n",
    "    - For each result check if is a subset/synonym -> if yes - go one step up the hierarchy\n",
    "    - When getting to the highest point that is a subset/synonym - get all nodes bellow it \n",
    "    '''\n",
    "\n",
    "\n",
    "    # keep a list of relevant icd codes\n",
    "    relevant_icd_codes = [] \n",
    "\n",
    "    # search for the term in the icd codes and get k results\n",
    "    optional_results = search_by_embedding(term, index=index_icd, embedding_df=embedding_data, k=k)\n",
    "\n",
    "    # check if the term is a subset or synonym of the icd code\n",
    "    # if yes check it's parent and grandparent until you find the highest node that is a subset or synonym of the term\n",
    "    for row in tqdm(optional_results.itertuples(index=False)):\n",
    "        # if we already includede the code - stop here \n",
    "        if hierarcial_data[row.code] in relevant_icd_codes:\n",
    "            continue\n",
    "        \n",
    "        #else climb up the heirarchy until no more relevant \n",
    "        highiest_node = None\n",
    "        current_node = hierarcial_data[row.code]\n",
    "        while is_node_sunbset_or_synonym(term, current_node.description):\n",
    "            highiest_node = hierarcial_data[row.code]\n",
    "            if current_node.get_parent() ==hierarcial_data['root']: #we got up to the chapter nodes  \n",
    "                break\n",
    "            current_node = current_node.get_parent()\n",
    "        #Once we climed the highest we include all the nodes bellow that point in the relevant nodes \n",
    "        if highiest_node is not None:\n",
    "            relevant_icd_codes.extend(get_self_and_all_lower_nodes(highiest_node))\n",
    "\n",
    "    final_list = list(set(relevant_icd_codes))\n",
    "    return final_list"
   ]
  },
  {
   "cell_type": "markdown",
   "metadata": {},
   "source": [
    "# Visualizing the results "
   ]
  },
  {
   "cell_type": "code",
   "execution_count": null,
   "metadata": {},
   "outputs": [],
   "source": [
    "def build_networkx_graph(node_list):\n",
    "    \"\"\"Create a NetworkX graph from a list of nodes.\n",
    "    Each node is expected to have `icd_code`, `description`, and a method `get_children()`.\n",
    "    Only children present in the node_list will be added as edges.\n",
    "    \"\"\"\n",
    "    graph = nx.Graph()\n",
    "    node_descriptions = {node.description for node in node_list}\n",
    "\n",
    "    # Add nodes and edges for each node in the list\n",
    "    for node in node_list:\n",
    "        # Add node with its description as attributes\n",
    "        graph.add_node(node.description, icd_code=node.icd_code)\n",
    "        \n",
    "        # Add edges to children if they are in the node_list\n",
    "        for child in node.get_children():\n",
    "            if child.description in node_descriptions:\n",
    "                graph.add_node(child.description, icd_code=child.icd_code)\n",
    "                graph.add_edge(node.description, child.description)\n",
    "    \n",
    "    return graph\n",
    "\n",
    "\n",
    "def visualize_graph(graph):\n",
    "    \"\"\"Visualize the NetworkX graph with node size based on the number of connections (degree) and font size adjusted by node degree.\"\"\"\n",
    "    plt.figure(figsize=(32, 32))  # Increased figure size for better spacing\n",
    "    pos = nx.spring_layout(graph, k=0.5, iterations=100)  # Adjusted spring layout parameter for more spacing\n",
    "    node_sizes = [1000 + 1000 * graph.degree(node) for node in graph.nodes]  # Scale node size by degree\n",
    "    font_sizes = {node: 10 + 3 * graph.degree(node) for node in graph.nodes}  # Scale font size by degree\n",
    "\n",
    "    nx.draw(graph, pos, node_size=node_sizes, node_color='lightblue', font_size=10, font_weight='bold', edge_color='gray')  # Removed with_labels=True\n",
    "    \n",
    "    # Draw custom labels with adjusted font size\n",
    "    for node, (x, y) in pos.items():\n",
    "        plt.text(x, y, s=node, fontsize=font_sizes[node], ha='center', va='center')\n",
    "    \n",
    "    nx.draw_networkx_edge_labels(graph, pos, font_size=8)\n",
    "    plt.show()"
   ]
  },
  {
   "cell_type": "markdown",
   "metadata": {},
   "source": [
    "# Examples"
   ]
  },
  {
   "cell_type": "markdown",
   "metadata": {},
   "source": [
    "### Query = Sterptococcal infection"
   ]
  },
  {
   "cell_type": "code",
   "execution_count": null,
   "metadata": {},
   "outputs": [],
   "source": [
    "final_list_strep =  run_hierarchial_search('sterptococcal infection', k=100)"
   ]
  },
  {
   "cell_type": "code",
   "execution_count": null,
   "metadata": {},
   "outputs": [],
   "source": [
    "graph = build_networkx_graph(final_list_strep)\n",
    "visualize_graph(graph)"
   ]
  }
 ],
 "metadata": {
  "kernelspec": {
   "display_name": "omop_api",
   "language": "python",
   "name": "python3"
  },
  "language_info": {
   "codemirror_mode": {
    "name": "ipython",
    "version": 3
   },
   "file_extension": ".py",
   "mimetype": "text/x-python",
   "name": "python",
   "nbconvert_exporter": "python",
   "pygments_lexer": "ipython3",
   "version": "3.11.5"
  }
 },
 "nbformat": 4,
 "nbformat_minor": 2
}
